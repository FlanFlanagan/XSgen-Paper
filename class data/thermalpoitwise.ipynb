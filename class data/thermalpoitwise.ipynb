{
 "cells": [
  {
   "cell_type": "code",
   "execution_count": 1,
   "metadata": {
    "collapsed": true
   },
   "outputs": [],
   "source": [
    "%matplotlib inline\n",
    "import numpy as np\n",
    "import matplotlib.pyplot as plt"
   ]
  },
  {
   "cell_type": "code",
   "execution_count": 2,
   "metadata": {
    "collapsed": true
   },
   "outputs": [],
   "source": [
    "E = np.logspace(-9, 1, 1001)\n",
    "phi0 = 3e14\n",
    "k = 8.52e-5\n",
    "T = 573\n",
    "u = 5e4\n",
    "l = 0.155"
   ]
  },
  {
   "cell_type": "code",
   "execution_count": 3,
   "metadata": {},
   "outputs": [
    {
     "data": {
      "text/plain": [
       "[0.001, 10000000.0, 1e-07, 0.0078065018456457604]"
      ]
     },
     "execution_count": 3,
     "metadata": {},
     "output_type": "execute_result"
    },
    {
     "data": {
      "image/png": "[encoded data removed]",
      "text/plain": [
       "<matplotlib.figure.Figure at 0x17c21f4d518>"
      ]
     },
     "metadata": {},
     "output_type": "display_data"
    }
   ],
   "source": [
    "epi = phi0/((2*E)**0.5)\n",
    "epi[E<l] = 0.0\n",
    "epi[E>u] = 0.0\n",
    "phi = epi\n",
    "#epi /= epi.sum()\n",
    "#plt.loglog(E, epi)\n",
    "therm = phi0* 2*np.pi*np.sqrt(E) * np.exp(-E/(k*T)) / (np.pi * k * T)**1.5\n",
    "therm[E>l] = 0.0\n",
    "phi += therm\n",
    "#therm /= therm.sum()\n",
    "#plt.loglog(E, therm)\n",
    "fast = phi0 * 0.453 * np.exp(-1.036 * E / 1e6) * np.sinh(np.sqrt(2.29 * E / 1e6))\n",
    "phi += fast\n",
    "fast[np.isnan(fast)] = 0.0\n",
    "fast[E<u] = 0.0\n",
    "#fast /= fast.sum()\n",
    "#plt.loglog(E, fast)\n",
    "E = np.logspace(-3, 7, 1001)\n",
    "phi /= phi.sum()\n",
    "plt.loglog(E, phi)\n",
    "ax = plt.axis()\n",
    "plt.xlabel('Energy (eV)')\n",
    "plt.ylabel('Normalized Flux')\n",
    "plt.axis([E[0], E[-1], 1e-7, ax[3]])"
   ]
  },
  {
   "cell_type": "code",
   "execution_count": 4,
   "metadata": {
    "collapsed": true
   },
   "outputs": [],
   "source": [
    "def thermspect(E, T=573, lower=0.13e-6):\n",
    "    k = 8.52e-5\n",
    "    phi = np.empty(len(E), 'f8')\n",
    "    mask = (E <= lower)\n",
    "    phi[mask] = 2*np.pi*np.sqrt(E[mask]*1e6) * np.exp(-E[mask]*1e6/(k*T)) / (np.pi * k * T)**1.5\n",
    "    mask = (E > lower)\n",
    "    phi[mask] = 1/((E[mask]*1e6)**0.5)\n",
    "    phi[mask] += 0.453 * np.exp(-1.036 * E[mask]) * np.sinh(np.sqrt(2.29 * E[mask]))\n",
    "    return phi"
   ]
  },
  {
   "cell_type": "code",
   "execution_count": 9,
   "metadata": {},
   "outputs": [
    {
     "data": {
      "text/plain": [
       "[1.0000000000000001e-09, 10.0, 1e-07, 0.0088403931624787546]"
      ]
     },
     "execution_count": 9,
     "metadata": {},
     "output_type": "execute_result"
    },
    {
     "data": {
      "image/png": "[encoded data removed]",
      "text/plain": [
       "<matplotlib.figure.Figure at 0x17c22c51048>"
      ]
     },
     "metadata": {},
     "output_type": "display_data"
    }
   ],
   "source": [
    "E = np.logspace(-9, 1, 1001)\n",
    "Et = E[::-1]\n",
    "spec = thermspect(Et)\n",
    "spec /= spec.sum()\n",
    "plt.loglog(E, spec)\n",
    "ax = plt.axis()\n",
    "plt.xlabel('Energy [MeV]')\n",
    "plt.ylabel('Normalized Flux')\n",
    "plt.axis([E[0], E[-1], 1e-7, ax[3]])"
   ]
  },
  {
   "cell_type": "code",
   "execution_count": 67,
   "metadata": {},
   "outputs": [
    {
     "data": {
      "text/plain": [
       "0.049999999999999996"
      ]
     },
     "execution_count": 67,
     "metadata": {},
     "output_type": "execute_result"
    }
   ],
   "source": [
    "5e4 * 1e-6"
   ]
  },
  {
   "cell_type": "code",
   "execution_count": null,
   "metadata": {
    "collapsed": true
   },
   "outputs": [],
   "source": []
  },
  {
   "cell_type": "code",
   "execution_count": null,
   "metadata": {
    "collapsed": true
   },
   "outputs": [],
   "source": []
  }
 ],
 "metadata": {
  "kernelspec": {
   "display_name": "Python 3",
   "language": "python",
   "name": "python3"
  },
  "language_info": {
   "codemirror_mode": {
    "name": "ipython",
    "version": 3
   },
   "file_extension": ".py",
   "mimetype": "text/x-python",
   "name": "python",
   "nbconvert_exporter": "python",
   "pygments_lexer": "ipython3",
   "version": "3.6.1"
  },
  "widgets": {
   "state": {},
   "version": "1.1.1"
  }
 },
 "nbformat": 4,
 "nbformat_minor": 1
}
